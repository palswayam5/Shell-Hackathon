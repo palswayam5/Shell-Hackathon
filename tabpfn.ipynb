{
 "cells": [
  {
   "cell_type": "code",
   "execution_count": 1,
   "metadata": {
    "execution": {
     "iopub.execute_input": "2025-07-12T19:38:39.897588Z",
     "iopub.status.busy": "2025-07-12T19:38:39.897325Z",
     "iopub.status.idle": "2025-07-12T19:38:43.117051Z",
     "shell.execute_reply": "2025-07-12T19:38:43.116297Z",
     "shell.execute_reply.started": "2025-07-12T19:38:39.897564Z"
    },
    "trusted": true
   },
   "outputs": [
    {
     "name": "stdout",
     "output_type": "stream",
     "text": [
      "Requirement already satisfied: tabpfn in /opt/anaconda3/lib/python3.12/site-packages (2.1.0)\n",
      "Requirement already satisfied: torch<3,>=2.1 in /opt/anaconda3/lib/python3.12/site-packages (from tabpfn) (2.6.0)\n",
      "Requirement already satisfied: scikit-learn<1.7,>=1.2.0 in /opt/anaconda3/lib/python3.12/site-packages (from tabpfn) (1.6.1)\n",
      "Requirement already satisfied: typing_extensions>=4.4.0 in /opt/anaconda3/lib/python3.12/site-packages (from tabpfn) (4.11.0)\n",
      "Requirement already satisfied: scipy<2,>=1.11.1 in /opt/anaconda3/lib/python3.12/site-packages (from tabpfn) (1.13.1)\n",
      "Requirement already satisfied: pandas<3,>=1.4.0 in /opt/anaconda3/lib/python3.12/site-packages (from tabpfn) (2.2.2)\n",
      "Requirement already satisfied: einops<0.9,>=0.2.0 in /opt/anaconda3/lib/python3.12/site-packages (from tabpfn) (0.8.1)\n",
      "Requirement already satisfied: huggingface-hub<1,>=0.0.1 in /opt/anaconda3/lib/python3.12/site-packages (from tabpfn) (0.29.1)\n",
      "Requirement already satisfied: filelock in /opt/anaconda3/lib/python3.12/site-packages (from huggingface-hub<1,>=0.0.1->tabpfn) (3.13.1)\n",
      "Requirement already satisfied: fsspec>=2023.5.0 in /opt/anaconda3/lib/python3.12/site-packages (from huggingface-hub<1,>=0.0.1->tabpfn) (2024.6.1)\n",
      "Requirement already satisfied: packaging>=20.9 in /opt/anaconda3/lib/python3.12/site-packages (from huggingface-hub<1,>=0.0.1->tabpfn) (24.1)\n",
      "Requirement already satisfied: pyyaml>=5.1 in /opt/anaconda3/lib/python3.12/site-packages (from huggingface-hub<1,>=0.0.1->tabpfn) (6.0.1)\n",
      "Requirement already satisfied: requests in /opt/anaconda3/lib/python3.12/site-packages (from huggingface-hub<1,>=0.0.1->tabpfn) (2.32.3)\n",
      "Requirement already satisfied: tqdm>=4.42.1 in /opt/anaconda3/lib/python3.12/site-packages (from huggingface-hub<1,>=0.0.1->tabpfn) (4.66.5)\n",
      "Requirement already satisfied: numpy>=1.26.0 in /opt/anaconda3/lib/python3.12/site-packages (from pandas<3,>=1.4.0->tabpfn) (1.26.4)\n",
      "Requirement already satisfied: python-dateutil>=2.8.2 in /opt/anaconda3/lib/python3.12/site-packages (from pandas<3,>=1.4.0->tabpfn) (2.9.0.post0)\n",
      "Requirement already satisfied: pytz>=2020.1 in /opt/anaconda3/lib/python3.12/site-packages (from pandas<3,>=1.4.0->tabpfn) (2024.1)\n",
      "Requirement already satisfied: tzdata>=2022.7 in /opt/anaconda3/lib/python3.12/site-packages (from pandas<3,>=1.4.0->tabpfn) (2023.3)\n",
      "Requirement already satisfied: joblib>=1.2.0 in /opt/anaconda3/lib/python3.12/site-packages (from scikit-learn<1.7,>=1.2.0->tabpfn) (1.4.2)\n",
      "Requirement already satisfied: threadpoolctl>=3.1.0 in /opt/anaconda3/lib/python3.12/site-packages (from scikit-learn<1.7,>=1.2.0->tabpfn) (3.5.0)\n",
      "Requirement already satisfied: networkx in /opt/anaconda3/lib/python3.12/site-packages (from torch<3,>=2.1->tabpfn) (3.3)\n",
      "Requirement already satisfied: jinja2 in /opt/anaconda3/lib/python3.12/site-packages (from torch<3,>=2.1->tabpfn) (3.1.4)\n",
      "Requirement already satisfied: setuptools in /opt/anaconda3/lib/python3.12/site-packages (from torch<3,>=2.1->tabpfn) (75.1.0)\n",
      "Requirement already satisfied: sympy==1.13.1 in /opt/anaconda3/lib/python3.12/site-packages (from torch<3,>=2.1->tabpfn) (1.13.1)\n",
      "Requirement already satisfied: mpmath<1.4,>=1.1.0 in /opt/anaconda3/lib/python3.12/site-packages (from sympy==1.13.1->torch<3,>=2.1->tabpfn) (1.3.0)\n",
      "Requirement already satisfied: six>=1.5 in /opt/anaconda3/lib/python3.12/site-packages (from python-dateutil>=2.8.2->pandas<3,>=1.4.0->tabpfn) (1.16.0)\n",
      "Requirement already satisfied: MarkupSafe>=2.0 in /opt/anaconda3/lib/python3.12/site-packages (from jinja2->torch<3,>=2.1->tabpfn) (2.1.3)\n",
      "Requirement already satisfied: charset-normalizer<4,>=2 in /opt/anaconda3/lib/python3.12/site-packages (from requests->huggingface-hub<1,>=0.0.1->tabpfn) (3.3.2)\n",
      "Requirement already satisfied: idna<4,>=2.5 in /opt/anaconda3/lib/python3.12/site-packages (from requests->huggingface-hub<1,>=0.0.1->tabpfn) (3.7)\n",
      "Requirement already satisfied: urllib3<3,>=1.21.1 in /opt/anaconda3/lib/python3.12/site-packages (from requests->huggingface-hub<1,>=0.0.1->tabpfn) (2.2.3)\n",
      "Requirement already satisfied: certifi>=2017.4.17 in /opt/anaconda3/lib/python3.12/site-packages (from requests->huggingface-hub<1,>=0.0.1->tabpfn) (2025.1.31)\n"
     ]
    }
   ],
   "source": [
    "!pip install tabpfn"
   ]
  },
  {
   "cell_type": "code",
   "execution_count": 21,
   "metadata": {
    "execution": {
     "iopub.execute_input": "2025-07-12T19:38:47.898584Z",
     "iopub.status.busy": "2025-07-12T19:38:47.898285Z",
     "iopub.status.idle": "2025-07-12T19:38:51.951462Z",
     "shell.execute_reply": "2025-07-12T19:38:51.950929Z",
     "shell.execute_reply.started": "2025-07-12T19:38:47.898555Z"
    },
    "trusted": true
   },
   "outputs": [],
   "source": [
    "import pandas as pd\n",
    "import numpy as np\n",
    "from sklearn.preprocessing import StandardScaler\n",
    "from sklearn.model_selection import cross_val_score, KFold\n",
    "from sklearn.multioutput import MultiOutputRegressor\n",
    "from sklearn.metrics import mean_absolute_percentage_error, make_scorer\n",
    "from tabpfn import TabPFNRegressor\n",
    "import torch"
   ]
  },
  {
   "cell_type": "code",
   "execution_count": 22,
   "metadata": {
    "execution": {
     "iopub.execute_input": "2025-07-12T19:38:56.258162Z",
     "iopub.status.busy": "2025-07-12T19:38:56.257193Z",
     "iopub.status.idle": "2025-07-12T19:38:56.261972Z",
     "shell.execute_reply": "2025-07-12T19:38:56.261318Z",
     "shell.execute_reply.started": "2025-07-12T19:38:56.258135Z"
    },
    "trusted": true
   },
   "outputs": [],
   "source": [
    "import pandas as pd\n",
    "import numpy as np\n",
    "from sklearn.preprocessing import LabelEncoder, StandardScaler\n",
    "from sklearn.model_selection import cross_val_score, StratifiedKFold\n",
    "from tabpfn import TabPFNRegressor\n",
    "from sklearn.multioutput import MultiOutputRegressor\n",
    "from sklearn.metrics import mean_absolute_percentage_error, make_scorer"
   ]
  },
  {
   "cell_type": "code",
   "execution_count": 23,
   "metadata": {
    "execution": {
     "iopub.execute_input": "2025-07-12T19:38:58.933223Z",
     "iopub.status.busy": "2025-07-12T19:38:58.932755Z",
     "iopub.status.idle": "2025-07-12T19:38:58.938353Z",
     "shell.execute_reply": "2025-07-12T19:38:58.937772Z",
     "shell.execute_reply.started": "2025-07-12T19:38:58.933199Z"
    },
    "trusted": true
   },
   "outputs": [],
   "source": [
    "# Evaluation functions\n",
    "def calculate_mape(y_true, y_pred):\n",
    "    \"\"\"Use sklearn's MAPE implementation.\"\"\"\n",
    "    return mean_absolute_percentage_error(y_true, y_pred)\n",
    "\n",
    "def calculate_leaderboard_score(mape_cost, leaderboard_type='public'):\n",
    "    \"\"\"Leaderboard score: max[10, 100 - (90 × MAPE / Ref Cost)]\"\"\"\n",
    "    ref_cost = 2.72  # Public leaderboard reference cost\n",
    "    score = max(10, 100 - (90 * mape_cost) / ref_cost)\n",
    "    return score\n",
    "\n",
    "def evaluate_model(y_true, y_pred, leaderboard_type='public'):\n",
    "    \"\"\"Evaluate model using MAPE and leaderboard score.\"\"\"\n",
    "    mape = calculate_mape(y_true, y_pred)\n",
    "    score = calculate_leaderboard_score(mape, leaderboard_type)\n",
    "    return score, mape\n",
    "\n",
    "# Create scorer for cross-validation (negative because sklearn maximizes scores)\n",
    "def leaderboard_scorer(y_true, y_pred):\n",
    "    score, _ = evaluate_model(y_true, y_pred)\n",
    "    return score\n",
    "\n",
    "custom_scorer = make_scorer(leaderboard_scorer, greater_is_better=True)\n"
   ]
  },
  {
   "cell_type": "code",
   "execution_count": 24,
   "metadata": {
    "execution": {
     "iopub.execute_input": "2025-07-12T19:39:02.549810Z",
     "iopub.status.busy": "2025-07-12T19:39:02.549444Z",
     "iopub.status.idle": "2025-07-12T19:39:02.607572Z",
     "shell.execute_reply": "2025-07-12T19:39:02.606887Z",
     "shell.execute_reply.started": "2025-07-12T19:39:02.549786Z"
    },
    "trusted": true
   },
   "outputs": [],
   "source": [
    "\n",
    "train = pd.read_csv('train.csv')\n",
    "test = pd.read_csv('test.csv')"
   ]
  },
  {
   "cell_type": "code",
   "execution_count": 25,
   "metadata": {
    "execution": {
     "iopub.execute_input": "2025-07-12T19:39:16.675283Z",
     "iopub.status.busy": "2025-07-12T19:39:16.674753Z",
     "iopub.status.idle": "2025-07-12T19:39:16.679870Z",
     "shell.execute_reply": "2025-07-12T19:39:16.678987Z",
     "shell.execute_reply.started": "2025-07-12T19:39:16.675259Z"
    },
    "trusted": true
   },
   "outputs": [],
   "source": [
    "feature_columns = train.columns\n",
    "target_columns = [col for col in train.columns if 'BlendProperty' in col]\n",
    "feature_columns=train.columns.drop(target_columns)"
   ]
  },
  {
   "cell_type": "code",
   "execution_count": 7,
   "metadata": {
    "execution": {
     "iopub.execute_input": "2025-07-12T19:39:18.880825Z",
     "iopub.status.busy": "2025-07-12T19:39:18.880250Z",
     "iopub.status.idle": "2025-07-12T19:39:18.886277Z",
     "shell.execute_reply": "2025-07-12T19:39:18.885649Z",
     "shell.execute_reply.started": "2025-07-12T19:39:18.880802Z"
    },
    "trusted": true
   },
   "outputs": [],
   "source": [
    "# Separate features and target\n",
    "# Assuming last column is target, adjust if needed\n",
    "X_train = train[feature_columns]  # All columns except last\n",
    "y_train = train[target_columns]   # Last column as target\n",
    "\n",
    "X_test = test[feature_columns]\n"
   ]
  },
  {
   "cell_type": "code",
   "execution_count": 12,
   "metadata": {},
   "outputs": [],
   "source": [
    "# Enhanced device selection\n",
    "device = 'cuda' if torch.cuda.is_available() else 'cpu'\n",
    "if device == 'cuda':\n",
    "    torch.cuda.empty_cache()  # Clear GPU memory"
   ]
  },
  {
   "cell_type": "code",
   "execution_count": null,
   "metadata": {
    "execution": {
     "iopub.execute_input": "2025-07-12T19:39:19.157267Z",
     "iopub.status.busy": "2025-07-12T19:39:19.156891Z",
     "iopub.status.idle": "2025-07-12T19:39:19.160524Z",
     "shell.execute_reply": "2025-07-12T19:39:19.159788Z",
     "shell.execute_reply.started": "2025-07-12T19:39:19.157250Z"
    },
    "trusted": true
   },
   "outputs": [],
   "source": [
    "# Optimized initialization\n",
    "clf = TabPFNRegressor()"
   ]
  },
  {
   "cell_type": "code",
   "execution_count": 19,
   "metadata": {
    "execution": {
     "iopub.execute_input": "2025-07-12T19:39:21.287979Z",
     "iopub.status.busy": "2025-07-12T19:39:21.287387Z",
     "iopub.status.idle": "2025-07-12T19:39:21.291506Z",
     "shell.execute_reply": "2025-07-12T19:39:21.290786Z",
     "shell.execute_reply.started": "2025-07-12T19:39:21.287954Z"
    },
    "trusted": true
   },
   "outputs": [],
   "source": [
    "clf = MultiOutputRegressor(clf)"
   ]
  },
  {
   "cell_type": "code",
   "execution_count": 16,
   "metadata": {
    "execution": {
     "iopub.execute_input": "2025-07-12T19:39:23.423749Z",
     "iopub.status.busy": "2025-07-12T19:39:23.423216Z",
     "iopub.status.idle": "2025-07-12T19:43:25.267160Z",
     "shell.execute_reply": "2025-07-12T19:43:25.266570Z",
     "shell.execute_reply.started": "2025-07-12T19:39:23.423724Z"
    },
    "trusted": true
   },
   "outputs": [
    {
     "ename": "ValueError",
     "evalue": "\nAll the 5 fits failed.\nIt is very likely that your model is misconfigured.\nYou can try to debug the error by setting error_score='raise'.\n\nBelow are more details about the failures:\n--------------------------------------------------------------------------------\n5 fits failed with the following error:\nTraceback (most recent call last):\n  File \"/opt/anaconda3/lib/python3.12/site-packages/sklearn/model_selection/_validation.py\", line 866, in _fit_and_score\n    estimator.fit(X_train, y_train, **fit_params)\n  File \"/opt/anaconda3/lib/python3.12/site-packages/sklearn/base.py\", line 1382, in wrapper\n    estimator._validate_params()\n  File \"/opt/anaconda3/lib/python3.12/site-packages/sklearn/base.py\", line 436, in _validate_params\n    validate_parameter_constraints(\n  File \"/opt/anaconda3/lib/python3.12/site-packages/sklearn/utils/_param_validation.py\", line 98, in validate_parameter_constraints\n    raise InvalidParameterError(\nsklearn.utils._param_validation.InvalidParameterError: The 'estimator' parameter of MultiOutputRegressor must be an object implementing 'fit' and 'predict'. Got [TabPFNRegressor(device='cuda'), TabPFNRegressor(device='cuda'), TabPFNRegressor(device='cuda')] instead.\n",
     "output_type": "error",
     "traceback": [
      "\u001b[0;31m---------------------------------------------------------------------------\u001b[0m",
      "\u001b[0;31mValueError\u001b[0m                                Traceback (most recent call last)",
      "Cell \u001b[0;32mIn[16], line 1\u001b[0m\n\u001b[0;32m----> 1\u001b[0m cv_scores \u001b[38;5;241m=\u001b[39m cross_val_score(clf, X_train, y_train, \n\u001b[1;32m      2\u001b[0m                            cv\u001b[38;5;241m=\u001b[39mKFold(n_splits\u001b[38;5;241m=\u001b[39m\u001b[38;5;241m5\u001b[39m, shuffle\u001b[38;5;241m=\u001b[39m\u001b[38;5;28;01mTrue\u001b[39;00m, random_state\u001b[38;5;241m=\u001b[39m\u001b[38;5;241m42\u001b[39m), \n\u001b[1;32m      3\u001b[0m                            scoring\u001b[38;5;241m=\u001b[39mcustom_scorer)\n",
      "File \u001b[0;32m/opt/anaconda3/lib/python3.12/site-packages/sklearn/utils/_param_validation.py:216\u001b[0m, in \u001b[0;36mvalidate_params.<locals>.decorator.<locals>.wrapper\u001b[0;34m(*args, **kwargs)\u001b[0m\n\u001b[1;32m    210\u001b[0m \u001b[38;5;28;01mtry\u001b[39;00m:\n\u001b[1;32m    211\u001b[0m     \u001b[38;5;28;01mwith\u001b[39;00m config_context(\n\u001b[1;32m    212\u001b[0m         skip_parameter_validation\u001b[38;5;241m=\u001b[39m(\n\u001b[1;32m    213\u001b[0m             prefer_skip_nested_validation \u001b[38;5;129;01mor\u001b[39;00m global_skip_validation\n\u001b[1;32m    214\u001b[0m         )\n\u001b[1;32m    215\u001b[0m     ):\n\u001b[0;32m--> 216\u001b[0m         \u001b[38;5;28;01mreturn\u001b[39;00m func(\u001b[38;5;241m*\u001b[39margs, \u001b[38;5;241m*\u001b[39m\u001b[38;5;241m*\u001b[39mkwargs)\n\u001b[1;32m    217\u001b[0m \u001b[38;5;28;01mexcept\u001b[39;00m InvalidParameterError \u001b[38;5;28;01mas\u001b[39;00m e:\n\u001b[1;32m    218\u001b[0m     \u001b[38;5;66;03m# When the function is just a wrapper around an estimator, we allow\u001b[39;00m\n\u001b[1;32m    219\u001b[0m     \u001b[38;5;66;03m# the function to delegate validation to the estimator, but we replace\u001b[39;00m\n\u001b[1;32m    220\u001b[0m     \u001b[38;5;66;03m# the name of the estimator by the name of the function in the error\u001b[39;00m\n\u001b[1;32m    221\u001b[0m     \u001b[38;5;66;03m# message to avoid confusion.\u001b[39;00m\n\u001b[1;32m    222\u001b[0m     msg \u001b[38;5;241m=\u001b[39m re\u001b[38;5;241m.\u001b[39msub(\n\u001b[1;32m    223\u001b[0m         \u001b[38;5;124mr\u001b[39m\u001b[38;5;124m\"\u001b[39m\u001b[38;5;124mparameter of \u001b[39m\u001b[38;5;124m\\\u001b[39m\u001b[38;5;124mw+ must be\u001b[39m\u001b[38;5;124m\"\u001b[39m,\n\u001b[1;32m    224\u001b[0m         \u001b[38;5;124mf\u001b[39m\u001b[38;5;124m\"\u001b[39m\u001b[38;5;124mparameter of \u001b[39m\u001b[38;5;132;01m{\u001b[39;00mfunc\u001b[38;5;241m.\u001b[39m\u001b[38;5;18m__qualname__\u001b[39m\u001b[38;5;132;01m}\u001b[39;00m\u001b[38;5;124m must be\u001b[39m\u001b[38;5;124m\"\u001b[39m,\n\u001b[1;32m    225\u001b[0m         \u001b[38;5;28mstr\u001b[39m(e),\n\u001b[1;32m    226\u001b[0m     )\n",
      "File \u001b[0;32m/opt/anaconda3/lib/python3.12/site-packages/sklearn/model_selection/_validation.py:684\u001b[0m, in \u001b[0;36mcross_val_score\u001b[0;34m(estimator, X, y, groups, scoring, cv, n_jobs, verbose, params, pre_dispatch, error_score)\u001b[0m\n\u001b[1;32m    681\u001b[0m \u001b[38;5;66;03m# To ensure multimetric format is not supported\u001b[39;00m\n\u001b[1;32m    682\u001b[0m scorer \u001b[38;5;241m=\u001b[39m check_scoring(estimator, scoring\u001b[38;5;241m=\u001b[39mscoring)\n\u001b[0;32m--> 684\u001b[0m cv_results \u001b[38;5;241m=\u001b[39m cross_validate(\n\u001b[1;32m    685\u001b[0m     estimator\u001b[38;5;241m=\u001b[39mestimator,\n\u001b[1;32m    686\u001b[0m     X\u001b[38;5;241m=\u001b[39mX,\n\u001b[1;32m    687\u001b[0m     y\u001b[38;5;241m=\u001b[39my,\n\u001b[1;32m    688\u001b[0m     groups\u001b[38;5;241m=\u001b[39mgroups,\n\u001b[1;32m    689\u001b[0m     scoring\u001b[38;5;241m=\u001b[39m{\u001b[38;5;124m\"\u001b[39m\u001b[38;5;124mscore\u001b[39m\u001b[38;5;124m\"\u001b[39m: scorer},\n\u001b[1;32m    690\u001b[0m     cv\u001b[38;5;241m=\u001b[39mcv,\n\u001b[1;32m    691\u001b[0m     n_jobs\u001b[38;5;241m=\u001b[39mn_jobs,\n\u001b[1;32m    692\u001b[0m     verbose\u001b[38;5;241m=\u001b[39mverbose,\n\u001b[1;32m    693\u001b[0m     params\u001b[38;5;241m=\u001b[39mparams,\n\u001b[1;32m    694\u001b[0m     pre_dispatch\u001b[38;5;241m=\u001b[39mpre_dispatch,\n\u001b[1;32m    695\u001b[0m     error_score\u001b[38;5;241m=\u001b[39merror_score,\n\u001b[1;32m    696\u001b[0m )\n\u001b[1;32m    697\u001b[0m \u001b[38;5;28;01mreturn\u001b[39;00m cv_results[\u001b[38;5;124m\"\u001b[39m\u001b[38;5;124mtest_score\u001b[39m\u001b[38;5;124m\"\u001b[39m]\n",
      "File \u001b[0;32m/opt/anaconda3/lib/python3.12/site-packages/sklearn/utils/_param_validation.py:216\u001b[0m, in \u001b[0;36mvalidate_params.<locals>.decorator.<locals>.wrapper\u001b[0;34m(*args, **kwargs)\u001b[0m\n\u001b[1;32m    210\u001b[0m \u001b[38;5;28;01mtry\u001b[39;00m:\n\u001b[1;32m    211\u001b[0m     \u001b[38;5;28;01mwith\u001b[39;00m config_context(\n\u001b[1;32m    212\u001b[0m         skip_parameter_validation\u001b[38;5;241m=\u001b[39m(\n\u001b[1;32m    213\u001b[0m             prefer_skip_nested_validation \u001b[38;5;129;01mor\u001b[39;00m global_skip_validation\n\u001b[1;32m    214\u001b[0m         )\n\u001b[1;32m    215\u001b[0m     ):\n\u001b[0;32m--> 216\u001b[0m         \u001b[38;5;28;01mreturn\u001b[39;00m func(\u001b[38;5;241m*\u001b[39margs, \u001b[38;5;241m*\u001b[39m\u001b[38;5;241m*\u001b[39mkwargs)\n\u001b[1;32m    217\u001b[0m \u001b[38;5;28;01mexcept\u001b[39;00m InvalidParameterError \u001b[38;5;28;01mas\u001b[39;00m e:\n\u001b[1;32m    218\u001b[0m     \u001b[38;5;66;03m# When the function is just a wrapper around an estimator, we allow\u001b[39;00m\n\u001b[1;32m    219\u001b[0m     \u001b[38;5;66;03m# the function to delegate validation to the estimator, but we replace\u001b[39;00m\n\u001b[1;32m    220\u001b[0m     \u001b[38;5;66;03m# the name of the estimator by the name of the function in the error\u001b[39;00m\n\u001b[1;32m    221\u001b[0m     \u001b[38;5;66;03m# message to avoid confusion.\u001b[39;00m\n\u001b[1;32m    222\u001b[0m     msg \u001b[38;5;241m=\u001b[39m re\u001b[38;5;241m.\u001b[39msub(\n\u001b[1;32m    223\u001b[0m         \u001b[38;5;124mr\u001b[39m\u001b[38;5;124m\"\u001b[39m\u001b[38;5;124mparameter of \u001b[39m\u001b[38;5;124m\\\u001b[39m\u001b[38;5;124mw+ must be\u001b[39m\u001b[38;5;124m\"\u001b[39m,\n\u001b[1;32m    224\u001b[0m         \u001b[38;5;124mf\u001b[39m\u001b[38;5;124m\"\u001b[39m\u001b[38;5;124mparameter of \u001b[39m\u001b[38;5;132;01m{\u001b[39;00mfunc\u001b[38;5;241m.\u001b[39m\u001b[38;5;18m__qualname__\u001b[39m\u001b[38;5;132;01m}\u001b[39;00m\u001b[38;5;124m must be\u001b[39m\u001b[38;5;124m\"\u001b[39m,\n\u001b[1;32m    225\u001b[0m         \u001b[38;5;28mstr\u001b[39m(e),\n\u001b[1;32m    226\u001b[0m     )\n",
      "File \u001b[0;32m/opt/anaconda3/lib/python3.12/site-packages/sklearn/model_selection/_validation.py:431\u001b[0m, in \u001b[0;36mcross_validate\u001b[0;34m(estimator, X, y, groups, scoring, cv, n_jobs, verbose, params, pre_dispatch, return_train_score, return_estimator, return_indices, error_score)\u001b[0m\n\u001b[1;32m    410\u001b[0m parallel \u001b[38;5;241m=\u001b[39m Parallel(n_jobs\u001b[38;5;241m=\u001b[39mn_jobs, verbose\u001b[38;5;241m=\u001b[39mverbose, pre_dispatch\u001b[38;5;241m=\u001b[39mpre_dispatch)\n\u001b[1;32m    411\u001b[0m results \u001b[38;5;241m=\u001b[39m parallel(\n\u001b[1;32m    412\u001b[0m     delayed(_fit_and_score)(\n\u001b[1;32m    413\u001b[0m         clone(estimator),\n\u001b[0;32m   (...)\u001b[0m\n\u001b[1;32m    428\u001b[0m     \u001b[38;5;28;01mfor\u001b[39;00m train, test \u001b[38;5;129;01min\u001b[39;00m indices\n\u001b[1;32m    429\u001b[0m )\n\u001b[0;32m--> 431\u001b[0m _warn_or_raise_about_fit_failures(results, error_score)\n\u001b[1;32m    433\u001b[0m \u001b[38;5;66;03m# For callable scoring, the return type is only know after calling. If the\u001b[39;00m\n\u001b[1;32m    434\u001b[0m \u001b[38;5;66;03m# return type is a dictionary, the error scores can now be inserted with\u001b[39;00m\n\u001b[1;32m    435\u001b[0m \u001b[38;5;66;03m# the correct key.\u001b[39;00m\n\u001b[1;32m    436\u001b[0m \u001b[38;5;28;01mif\u001b[39;00m \u001b[38;5;28mcallable\u001b[39m(scoring):\n",
      "File \u001b[0;32m/opt/anaconda3/lib/python3.12/site-packages/sklearn/model_selection/_validation.py:517\u001b[0m, in \u001b[0;36m_warn_or_raise_about_fit_failures\u001b[0;34m(results, error_score)\u001b[0m\n\u001b[1;32m    510\u001b[0m \u001b[38;5;28;01mif\u001b[39;00m num_failed_fits \u001b[38;5;241m==\u001b[39m num_fits:\n\u001b[1;32m    511\u001b[0m     all_fits_failed_message \u001b[38;5;241m=\u001b[39m (\n\u001b[1;32m    512\u001b[0m         \u001b[38;5;124mf\u001b[39m\u001b[38;5;124m\"\u001b[39m\u001b[38;5;130;01m\\n\u001b[39;00m\u001b[38;5;124mAll the \u001b[39m\u001b[38;5;132;01m{\u001b[39;00mnum_fits\u001b[38;5;132;01m}\u001b[39;00m\u001b[38;5;124m fits failed.\u001b[39m\u001b[38;5;130;01m\\n\u001b[39;00m\u001b[38;5;124m\"\u001b[39m\n\u001b[1;32m    513\u001b[0m         \u001b[38;5;124m\"\u001b[39m\u001b[38;5;124mIt is very likely that your model is misconfigured.\u001b[39m\u001b[38;5;130;01m\\n\u001b[39;00m\u001b[38;5;124m\"\u001b[39m\n\u001b[1;32m    514\u001b[0m         \u001b[38;5;124m\"\u001b[39m\u001b[38;5;124mYou can try to debug the error by setting error_score=\u001b[39m\u001b[38;5;124m'\u001b[39m\u001b[38;5;124mraise\u001b[39m\u001b[38;5;124m'\u001b[39m\u001b[38;5;124m.\u001b[39m\u001b[38;5;130;01m\\n\u001b[39;00m\u001b[38;5;130;01m\\n\u001b[39;00m\u001b[38;5;124m\"\u001b[39m\n\u001b[1;32m    515\u001b[0m         \u001b[38;5;124mf\u001b[39m\u001b[38;5;124m\"\u001b[39m\u001b[38;5;124mBelow are more details about the failures:\u001b[39m\u001b[38;5;130;01m\\n\u001b[39;00m\u001b[38;5;132;01m{\u001b[39;00mfit_errors_summary\u001b[38;5;132;01m}\u001b[39;00m\u001b[38;5;124m\"\u001b[39m\n\u001b[1;32m    516\u001b[0m     )\n\u001b[0;32m--> 517\u001b[0m     \u001b[38;5;28;01mraise\u001b[39;00m \u001b[38;5;167;01mValueError\u001b[39;00m(all_fits_failed_message)\n\u001b[1;32m    519\u001b[0m \u001b[38;5;28;01melse\u001b[39;00m:\n\u001b[1;32m    520\u001b[0m     some_fits_failed_message \u001b[38;5;241m=\u001b[39m (\n\u001b[1;32m    521\u001b[0m         \u001b[38;5;124mf\u001b[39m\u001b[38;5;124m\"\u001b[39m\u001b[38;5;130;01m\\n\u001b[39;00m\u001b[38;5;132;01m{\u001b[39;00mnum_failed_fits\u001b[38;5;132;01m}\u001b[39;00m\u001b[38;5;124m fits failed out of a total of \u001b[39m\u001b[38;5;132;01m{\u001b[39;00mnum_fits\u001b[38;5;132;01m}\u001b[39;00m\u001b[38;5;124m.\u001b[39m\u001b[38;5;130;01m\\n\u001b[39;00m\u001b[38;5;124m\"\u001b[39m\n\u001b[1;32m    522\u001b[0m         \u001b[38;5;124m\"\u001b[39m\u001b[38;5;124mThe score on these train-test partitions for these parameters\u001b[39m\u001b[38;5;124m\"\u001b[39m\n\u001b[0;32m   (...)\u001b[0m\n\u001b[1;32m    526\u001b[0m         \u001b[38;5;124mf\u001b[39m\u001b[38;5;124m\"\u001b[39m\u001b[38;5;124mBelow are more details about the failures:\u001b[39m\u001b[38;5;130;01m\\n\u001b[39;00m\u001b[38;5;132;01m{\u001b[39;00mfit_errors_summary\u001b[38;5;132;01m}\u001b[39;00m\u001b[38;5;124m\"\u001b[39m\n\u001b[1;32m    527\u001b[0m     )\n",
      "\u001b[0;31mValueError\u001b[0m: \nAll the 5 fits failed.\nIt is very likely that your model is misconfigured.\nYou can try to debug the error by setting error_score='raise'.\n\nBelow are more details about the failures:\n--------------------------------------------------------------------------------\n5 fits failed with the following error:\nTraceback (most recent call last):\n  File \"/opt/anaconda3/lib/python3.12/site-packages/sklearn/model_selection/_validation.py\", line 866, in _fit_and_score\n    estimator.fit(X_train, y_train, **fit_params)\n  File \"/opt/anaconda3/lib/python3.12/site-packages/sklearn/base.py\", line 1382, in wrapper\n    estimator._validate_params()\n  File \"/opt/anaconda3/lib/python3.12/site-packages/sklearn/base.py\", line 436, in _validate_params\n    validate_parameter_constraints(\n  File \"/opt/anaconda3/lib/python3.12/site-packages/sklearn/utils/_param_validation.py\", line 98, in validate_parameter_constraints\n    raise InvalidParameterError(\nsklearn.utils._param_validation.InvalidParameterError: The 'estimator' parameter of MultiOutputRegressor must be an object implementing 'fit' and 'predict'. Got [TabPFNRegressor(device='cuda'), TabPFNRegressor(device='cuda'), TabPFNRegressor(device='cuda')] instead.\n"
     ]
    }
   ],
   "source": [
    "cv_scores = cross_val_score(clf, X_train, y_train, \n",
    "                           cv=KFold(n_splits=5, shuffle=True, random_state=42), \n",
    "                           scoring=custom_scorer)\n"
   ]
  },
  {
   "cell_type": "code",
   "execution_count": 19,
   "metadata": {
    "execution": {
     "iopub.execute_input": "2025-07-12T19:43:25.269106Z",
     "iopub.status.busy": "2025-07-12T19:43:25.268426Z",
     "iopub.status.idle": "2025-07-12T19:43:25.273050Z",
     "shell.execute_reply": "2025-07-12T19:43:25.272366Z",
     "shell.execute_reply.started": "2025-07-12T19:43:25.269084Z"
    },
    "trusted": true
   },
   "outputs": [
    {
     "name": "stdout",
     "output_type": "stream",
     "text": [
      "TabPFN CV Leaderboard Score: 83.2954 (+/- 8.2757)\n"
     ]
    }
   ],
   "source": [
    "print(f\"TabPFN CV Leaderboard Score: {cv_scores.mean():.4f} (+/- {cv_scores.std() * 2:.4f})\")"
   ]
  },
  {
   "cell_type": "code",
   "execution_count": 20,
   "metadata": {
    "execution": {
     "iopub.execute_input": "2025-07-12T19:43:31.461888Z",
     "iopub.status.busy": "2025-07-12T19:43:31.461153Z",
     "iopub.status.idle": "2025-07-12T19:47:37.856336Z",
     "shell.execute_reply": "2025-07-12T19:47:37.855735Z",
     "shell.execute_reply.started": "2025-07-12T19:43:31.461862Z"
    },
    "trusted": true
   },
   "outputs": [
    {
     "name": "stdout",
     "output_type": "stream",
     "text": [
      "TabPFN CV MAPE: 0.5049 (+/- 0.2501)\n"
     ]
    }
   ],
   "source": [
    "mape_scores = cross_val_score(clf, X_train, y_train, \n",
    "                             cv=KFold(n_splits=5, shuffle=True, random_state=42), \n",
    "                             scoring=make_scorer(calculate_mape, greater_is_better=False))\n",
    "print(f\"TabPFN CV MAPE: {-mape_scores.mean():.4f} (+/- {mape_scores.std() * 2:.4f})\")"
   ]
  },
  {
   "cell_type": "code",
   "execution_count": 20,
   "metadata": {
    "execution": {
     "iopub.execute_input": "2025-07-12T19:48:01.716226Z",
     "iopub.status.busy": "2025-07-12T19:48:01.715980Z",
     "iopub.status.idle": "2025-07-12T19:48:16.180833Z",
     "shell.execute_reply": "2025-07-12T19:48:16.180151Z",
     "shell.execute_reply.started": "2025-07-12T19:48:01.716210Z"
    },
    "trusted": true
   },
   "outputs": [
    {
     "ename": "InvalidParameterError",
     "evalue": "The 'estimator' parameter of MultiOutputRegressor must be an object implementing 'fit' and 'predict'. Got [TabPFNRegressor(device='cuda'), TabPFNRegressor(device='cuda'), TabPFNRegressor(device='cuda')] instead.",
     "output_type": "error",
     "traceback": [
      "\u001b[0;31m---------------------------------------------------------------------------\u001b[0m",
      "\u001b[0;31mInvalidParameterError\u001b[0m                     Traceback (most recent call last)",
      "Cell \u001b[0;32mIn[20], line 2\u001b[0m\n\u001b[1;32m      1\u001b[0m \u001b[38;5;66;03m# Fit the model\u001b[39;00m\n\u001b[0;32m----> 2\u001b[0m clf\u001b[38;5;241m.\u001b[39mfit(X_train, y_train)\n",
      "File \u001b[0;32m/opt/anaconda3/lib/python3.12/site-packages/sklearn/base.py:1382\u001b[0m, in \u001b[0;36m_fit_context.<locals>.decorator.<locals>.wrapper\u001b[0;34m(estimator, *args, **kwargs)\u001b[0m\n\u001b[1;32m   1377\u001b[0m partial_fit_and_fitted \u001b[38;5;241m=\u001b[39m (\n\u001b[1;32m   1378\u001b[0m     fit_method\u001b[38;5;241m.\u001b[39m\u001b[38;5;18m__name__\u001b[39m \u001b[38;5;241m==\u001b[39m \u001b[38;5;124m\"\u001b[39m\u001b[38;5;124mpartial_fit\u001b[39m\u001b[38;5;124m\"\u001b[39m \u001b[38;5;129;01mand\u001b[39;00m _is_fitted(estimator)\n\u001b[1;32m   1379\u001b[0m )\n\u001b[1;32m   1381\u001b[0m \u001b[38;5;28;01mif\u001b[39;00m \u001b[38;5;129;01mnot\u001b[39;00m global_skip_validation \u001b[38;5;129;01mand\u001b[39;00m \u001b[38;5;129;01mnot\u001b[39;00m partial_fit_and_fitted:\n\u001b[0;32m-> 1382\u001b[0m     estimator\u001b[38;5;241m.\u001b[39m_validate_params()\n\u001b[1;32m   1384\u001b[0m \u001b[38;5;28;01mwith\u001b[39;00m config_context(\n\u001b[1;32m   1385\u001b[0m     skip_parameter_validation\u001b[38;5;241m=\u001b[39m(\n\u001b[1;32m   1386\u001b[0m         prefer_skip_nested_validation \u001b[38;5;129;01mor\u001b[39;00m global_skip_validation\n\u001b[1;32m   1387\u001b[0m     )\n\u001b[1;32m   1388\u001b[0m ):\n\u001b[1;32m   1389\u001b[0m     \u001b[38;5;28;01mreturn\u001b[39;00m fit_method(estimator, \u001b[38;5;241m*\u001b[39margs, \u001b[38;5;241m*\u001b[39m\u001b[38;5;241m*\u001b[39mkwargs)\n",
      "File \u001b[0;32m/opt/anaconda3/lib/python3.12/site-packages/sklearn/base.py:436\u001b[0m, in \u001b[0;36mBaseEstimator._validate_params\u001b[0;34m(self)\u001b[0m\n\u001b[1;32m    428\u001b[0m \u001b[38;5;28;01mdef\u001b[39;00m \u001b[38;5;21m_validate_params\u001b[39m(\u001b[38;5;28mself\u001b[39m):\n\u001b[1;32m    429\u001b[0m \u001b[38;5;250m    \u001b[39m\u001b[38;5;124;03m\"\"\"Validate types and values of constructor parameters\u001b[39;00m\n\u001b[1;32m    430\u001b[0m \n\u001b[1;32m    431\u001b[0m \u001b[38;5;124;03m    The expected type and values must be defined in the `_parameter_constraints`\u001b[39;00m\n\u001b[0;32m   (...)\u001b[0m\n\u001b[1;32m    434\u001b[0m \u001b[38;5;124;03m    accepted constraints.\u001b[39;00m\n\u001b[1;32m    435\u001b[0m \u001b[38;5;124;03m    \"\"\"\u001b[39;00m\n\u001b[0;32m--> 436\u001b[0m     validate_parameter_constraints(\n\u001b[1;32m    437\u001b[0m         \u001b[38;5;28mself\u001b[39m\u001b[38;5;241m.\u001b[39m_parameter_constraints,\n\u001b[1;32m    438\u001b[0m         \u001b[38;5;28mself\u001b[39m\u001b[38;5;241m.\u001b[39mget_params(deep\u001b[38;5;241m=\u001b[39m\u001b[38;5;28;01mFalse\u001b[39;00m),\n\u001b[1;32m    439\u001b[0m         caller_name\u001b[38;5;241m=\u001b[39m\u001b[38;5;28mself\u001b[39m\u001b[38;5;241m.\u001b[39m\u001b[38;5;18m__class__\u001b[39m\u001b[38;5;241m.\u001b[39m\u001b[38;5;18m__name__\u001b[39m,\n\u001b[1;32m    440\u001b[0m     )\n",
      "File \u001b[0;32m/opt/anaconda3/lib/python3.12/site-packages/sklearn/utils/_param_validation.py:98\u001b[0m, in \u001b[0;36mvalidate_parameter_constraints\u001b[0;34m(parameter_constraints, params, caller_name)\u001b[0m\n\u001b[1;32m     92\u001b[0m \u001b[38;5;28;01melse\u001b[39;00m:\n\u001b[1;32m     93\u001b[0m     constraints_str \u001b[38;5;241m=\u001b[39m (\n\u001b[1;32m     94\u001b[0m         \u001b[38;5;124mf\u001b[39m\u001b[38;5;124m\"\u001b[39m\u001b[38;5;132;01m{\u001b[39;00m\u001b[38;5;124m'\u001b[39m\u001b[38;5;124m, \u001b[39m\u001b[38;5;124m'\u001b[39m\u001b[38;5;241m.\u001b[39mjoin([\u001b[38;5;28mstr\u001b[39m(c)\u001b[38;5;250m \u001b[39m\u001b[38;5;28;01mfor\u001b[39;00m\u001b[38;5;250m \u001b[39mc\u001b[38;5;250m \u001b[39m\u001b[38;5;129;01min\u001b[39;00m\u001b[38;5;250m \u001b[39mconstraints[:\u001b[38;5;241m-\u001b[39m\u001b[38;5;241m1\u001b[39m]])\u001b[38;5;132;01m}\u001b[39;00m\u001b[38;5;124m or\u001b[39m\u001b[38;5;124m\"\u001b[39m\n\u001b[1;32m     95\u001b[0m         \u001b[38;5;124mf\u001b[39m\u001b[38;5;124m\"\u001b[39m\u001b[38;5;124m \u001b[39m\u001b[38;5;132;01m{\u001b[39;00mconstraints[\u001b[38;5;241m-\u001b[39m\u001b[38;5;241m1\u001b[39m]\u001b[38;5;132;01m}\u001b[39;00m\u001b[38;5;124m\"\u001b[39m\n\u001b[1;32m     96\u001b[0m     )\n\u001b[0;32m---> 98\u001b[0m \u001b[38;5;28;01mraise\u001b[39;00m InvalidParameterError(\n\u001b[1;32m     99\u001b[0m     \u001b[38;5;124mf\u001b[39m\u001b[38;5;124m\"\u001b[39m\u001b[38;5;124mThe \u001b[39m\u001b[38;5;132;01m{\u001b[39;00mparam_name\u001b[38;5;132;01m!r}\u001b[39;00m\u001b[38;5;124m parameter of \u001b[39m\u001b[38;5;132;01m{\u001b[39;00mcaller_name\u001b[38;5;132;01m}\u001b[39;00m\u001b[38;5;124m must be\u001b[39m\u001b[38;5;124m\"\u001b[39m\n\u001b[1;32m    100\u001b[0m     \u001b[38;5;124mf\u001b[39m\u001b[38;5;124m\"\u001b[39m\u001b[38;5;124m \u001b[39m\u001b[38;5;132;01m{\u001b[39;00mconstraints_str\u001b[38;5;132;01m}\u001b[39;00m\u001b[38;5;124m. Got \u001b[39m\u001b[38;5;132;01m{\u001b[39;00mparam_val\u001b[38;5;132;01m!r}\u001b[39;00m\u001b[38;5;124m instead.\u001b[39m\u001b[38;5;124m\"\u001b[39m\n\u001b[1;32m    101\u001b[0m )\n",
      "\u001b[0;31mInvalidParameterError\u001b[0m: The 'estimator' parameter of MultiOutputRegressor must be an object implementing 'fit' and 'predict'. Got [TabPFNRegressor(device='cuda'), TabPFNRegressor(device='cuda'), TabPFNRegressor(device='cuda')] instead."
     ]
    }
   ],
   "source": [
    "# Fit the model\n",
    "clf.fit(X_train, y_train)"
   ]
  },
  {
   "cell_type": "code",
   "execution_count": 22,
   "metadata": {
    "execution": {
     "iopub.execute_input": "2025-07-12T19:48:16.182177Z",
     "iopub.status.busy": "2025-07-12T19:48:16.181953Z",
     "iopub.status.idle": "2025-07-12T19:49:06.600015Z",
     "shell.execute_reply": "2025-07-12T19:49:06.599313Z",
     "shell.execute_reply.started": "2025-07-12T19:48:16.182161Z"
    },
    "trusted": true
   },
   "outputs": [
    {
     "name": "stdout",
     "output_type": "stream",
     "text": [
      "Predictions shape: (500, 10)\n"
     ]
    }
   ],
   "source": [
    "# Make predictions\n",
    "predictions = clf.predict(X_test)\n",
    "print(f\"Predictions shape: {predictions.shape}\")"
   ]
  },
  {
   "cell_type": "code",
   "execution_count": 23,
   "metadata": {
    "execution": {
     "iopub.execute_input": "2025-07-12T19:49:31.480550Z",
     "iopub.status.busy": "2025-07-12T19:49:31.480256Z",
     "iopub.status.idle": "2025-07-12T19:49:31.492307Z",
     "shell.execute_reply": "2025-07-12T19:49:31.491495Z",
     "shell.execute_reply.started": "2025-07-12T19:49:31.480527Z"
    },
    "trusted": true
   },
   "outputs": [
    {
     "name": "stdout",
     "output_type": "stream",
     "text": [
      "Shape of the new combined DataFrame: (500, 11)\n",
      "\n",
      "Top 5 rows of the combined DataFrame:\n"
     ]
    }
   ],
   "source": [
    "# First, create the list of new column names\n",
    "target_columns = [f'BlendProperty{i}' for i in range(1, 11)]\n",
    "\n",
    "# Create a copy to avoid modifying your original 'test' DataFrame\n",
    "test_with_predictions = test.copy()\n",
    "\n",
    "# Directly assign the NumPy array to the new columns\n",
    "# Pandas is smart enough to map the columns of the array to the new column names.\n",
    "test_with_predictions[target_columns] = predictions\n",
    "\n",
    "test_with_predictions=test_with_predictions[['ID']+target_columns]\n",
    "# --- 3. Verify the Result ---\n",
    "print(\"Shape of the new combined DataFrame:\", test_with_predictions.shape)\n",
    "print(\"\\nTop 5 rows of the combined DataFrame:\")\n"
   ]
  },
  {
   "cell_type": "code",
   "execution_count": 24,
   "metadata": {
    "execution": {
     "iopub.execute_input": "2025-07-12T19:49:38.539963Z",
     "iopub.status.busy": "2025-07-12T19:49:38.539334Z",
     "iopub.status.idle": "2025-07-12T19:49:38.562600Z",
     "shell.execute_reply": "2025-07-12T19:49:38.562105Z",
     "shell.execute_reply.started": "2025-07-12T19:49:38.539937Z"
    },
    "trusted": true
   },
   "outputs": [
    {
     "data": {
      "text/html": [
       "<div>\n",
       "<style scoped>\n",
       "    .dataframe tbody tr th:only-of-type {\n",
       "        vertical-align: middle;\n",
       "    }\n",
       "\n",
       "    .dataframe tbody tr th {\n",
       "        vertical-align: top;\n",
       "    }\n",
       "\n",
       "    .dataframe thead th {\n",
       "        text-align: right;\n",
       "    }\n",
       "</style>\n",
       "<table border=\"1\" class=\"dataframe\">\n",
       "  <thead>\n",
       "    <tr style=\"text-align: right;\">\n",
       "      <th></th>\n",
       "      <th>ID</th>\n",
       "      <th>BlendProperty1</th>\n",
       "      <th>BlendProperty2</th>\n",
       "      <th>BlendProperty3</th>\n",
       "      <th>BlendProperty4</th>\n",
       "      <th>BlendProperty5</th>\n",
       "      <th>BlendProperty6</th>\n",
       "      <th>BlendProperty7</th>\n",
       "      <th>BlendProperty8</th>\n",
       "      <th>BlendProperty9</th>\n",
       "      <th>BlendProperty10</th>\n",
       "    </tr>\n",
       "  </thead>\n",
       "  <tbody>\n",
       "    <tr>\n",
       "      <th>0</th>\n",
       "      <td>1</td>\n",
       "      <td>0.155831</td>\n",
       "      <td>0.195178</td>\n",
       "      <td>0.804584</td>\n",
       "      <td>0.715683</td>\n",
       "      <td>0.351751</td>\n",
       "      <td>0.767343</td>\n",
       "      <td>0.766554</td>\n",
       "      <td>0.295481</td>\n",
       "      <td>-0.372142</td>\n",
       "      <td>0.316256</td>\n",
       "    </tr>\n",
       "    <tr>\n",
       "      <th>1</th>\n",
       "      <td>2</td>\n",
       "      <td>-0.657282</td>\n",
       "      <td>-0.712930</td>\n",
       "      <td>-1.176398</td>\n",
       "      <td>0.031496</td>\n",
       "      <td>-0.728128</td>\n",
       "      <td>-0.125800</td>\n",
       "      <td>-1.169354</td>\n",
       "      <td>-1.111023</td>\n",
       "      <td>-0.909405</td>\n",
       "      <td>-0.008636</td>\n",
       "    </tr>\n",
       "    <tr>\n",
       "      <th>2</th>\n",
       "      <td>3</td>\n",
       "      <td>1.814321</td>\n",
       "      <td>1.163385</td>\n",
       "      <td>1.158747</td>\n",
       "      <td>1.111380</td>\n",
       "      <td>2.547431</td>\n",
       "      <td>1.795956</td>\n",
       "      <td>1.116346</td>\n",
       "      <td>2.001594</td>\n",
       "      <td>0.736295</td>\n",
       "      <td>2.209446</td>\n",
       "    </tr>\n",
       "    <tr>\n",
       "      <th>3</th>\n",
       "      <td>4</td>\n",
       "      <td>-0.465750</td>\n",
       "      <td>0.080764</td>\n",
       "      <td>0.807001</td>\n",
       "      <td>-0.700137</td>\n",
       "      <td>1.889994</td>\n",
       "      <td>-0.536108</td>\n",
       "      <td>0.759573</td>\n",
       "      <td>1.694087</td>\n",
       "      <td>0.736576</td>\n",
       "      <td>-0.907193</td>\n",
       "    </tr>\n",
       "    <tr>\n",
       "      <th>4</th>\n",
       "      <td>5</td>\n",
       "      <td>0.098901</td>\n",
       "      <td>-1.024938</td>\n",
       "      <td>1.039546</td>\n",
       "      <td>0.523161</td>\n",
       "      <td>2.504419</td>\n",
       "      <td>0.263571</td>\n",
       "      <td>1.026625</td>\n",
       "      <td>-0.001627</td>\n",
       "      <td>-0.453031</td>\n",
       "      <td>1.148754</td>\n",
       "    </tr>\n",
       "    <tr>\n",
       "      <th>...</th>\n",
       "      <td>...</td>\n",
       "      <td>...</td>\n",
       "      <td>...</td>\n",
       "      <td>...</td>\n",
       "      <td>...</td>\n",
       "      <td>...</td>\n",
       "      <td>...</td>\n",
       "      <td>...</td>\n",
       "      <td>...</td>\n",
       "      <td>...</td>\n",
       "      <td>...</td>\n",
       "    </tr>\n",
       "    <tr>\n",
       "      <th>495</th>\n",
       "      <td>496</td>\n",
       "      <td>0.201744</td>\n",
       "      <td>-0.962754</td>\n",
       "      <td>1.106679</td>\n",
       "      <td>-0.241950</td>\n",
       "      <td>-0.277259</td>\n",
       "      <td>-0.782664</td>\n",
       "      <td>1.095795</td>\n",
       "      <td>-0.589779</td>\n",
       "      <td>-1.307725</td>\n",
       "      <td>-0.367207</td>\n",
       "    </tr>\n",
       "    <tr>\n",
       "      <th>496</th>\n",
       "      <td>497</td>\n",
       "      <td>-2.184760</td>\n",
       "      <td>-1.257445</td>\n",
       "      <td>-1.061769</td>\n",
       "      <td>-2.289684</td>\n",
       "      <td>-0.627200</td>\n",
       "      <td>-2.443931</td>\n",
       "      <td>-1.045503</td>\n",
       "      <td>-1.869990</td>\n",
       "      <td>-1.227674</td>\n",
       "      <td>-1.443271</td>\n",
       "    </tr>\n",
       "    <tr>\n",
       "      <th>497</th>\n",
       "      <td>498</td>\n",
       "      <td>1.955008</td>\n",
       "      <td>2.124726</td>\n",
       "      <td>0.296155</td>\n",
       "      <td>1.346314</td>\n",
       "      <td>-0.014256</td>\n",
       "      <td>0.669229</td>\n",
       "      <td>0.268499</td>\n",
       "      <td>1.079289</td>\n",
       "      <td>0.217352</td>\n",
       "      <td>0.451333</td>\n",
       "    </tr>\n",
       "    <tr>\n",
       "      <th>498</th>\n",
       "      <td>499</td>\n",
       "      <td>-0.216230</td>\n",
       "      <td>0.814024</td>\n",
       "      <td>1.609025</td>\n",
       "      <td>-1.313257</td>\n",
       "      <td>-0.912242</td>\n",
       "      <td>0.201408</td>\n",
       "      <td>1.892087</td>\n",
       "      <td>0.550111</td>\n",
       "      <td>0.096723</td>\n",
       "      <td>1.229987</td>\n",
       "    </tr>\n",
       "    <tr>\n",
       "      <th>499</th>\n",
       "      <td>500</td>\n",
       "      <td>-1.032747</td>\n",
       "      <td>-1.968970</td>\n",
       "      <td>-1.979215</td>\n",
       "      <td>-1.647444</td>\n",
       "      <td>-0.023870</td>\n",
       "      <td>-1.962081</td>\n",
       "      <td>-1.951829</td>\n",
       "      <td>-1.908514</td>\n",
       "      <td>-2.442693</td>\n",
       "      <td>-0.236649</td>\n",
       "    </tr>\n",
       "  </tbody>\n",
       "</table>\n",
       "<p>500 rows × 11 columns</p>\n",
       "</div>"
      ],
      "text/plain": [
       "      ID  BlendProperty1  BlendProperty2  BlendProperty3  BlendProperty4  \\\n",
       "0      1        0.155831        0.195178        0.804584        0.715683   \n",
       "1      2       -0.657282       -0.712930       -1.176398        0.031496   \n",
       "2      3        1.814321        1.163385        1.158747        1.111380   \n",
       "3      4       -0.465750        0.080764        0.807001       -0.700137   \n",
       "4      5        0.098901       -1.024938        1.039546        0.523161   \n",
       "..   ...             ...             ...             ...             ...   \n",
       "495  496        0.201744       -0.962754        1.106679       -0.241950   \n",
       "496  497       -2.184760       -1.257445       -1.061769       -2.289684   \n",
       "497  498        1.955008        2.124726        0.296155        1.346314   \n",
       "498  499       -0.216230        0.814024        1.609025       -1.313257   \n",
       "499  500       -1.032747       -1.968970       -1.979215       -1.647444   \n",
       "\n",
       "     BlendProperty5  BlendProperty6  BlendProperty7  BlendProperty8  \\\n",
       "0          0.351751        0.767343        0.766554        0.295481   \n",
       "1         -0.728128       -0.125800       -1.169354       -1.111023   \n",
       "2          2.547431        1.795956        1.116346        2.001594   \n",
       "3          1.889994       -0.536108        0.759573        1.694087   \n",
       "4          2.504419        0.263571        1.026625       -0.001627   \n",
       "..              ...             ...             ...             ...   \n",
       "495       -0.277259       -0.782664        1.095795       -0.589779   \n",
       "496       -0.627200       -2.443931       -1.045503       -1.869990   \n",
       "497       -0.014256        0.669229        0.268499        1.079289   \n",
       "498       -0.912242        0.201408        1.892087        0.550111   \n",
       "499       -0.023870       -1.962081       -1.951829       -1.908514   \n",
       "\n",
       "     BlendProperty9  BlendProperty10  \n",
       "0         -0.372142         0.316256  \n",
       "1         -0.909405        -0.008636  \n",
       "2          0.736295         2.209446  \n",
       "3          0.736576        -0.907193  \n",
       "4         -0.453031         1.148754  \n",
       "..              ...              ...  \n",
       "495       -1.307725        -0.367207  \n",
       "496       -1.227674        -1.443271  \n",
       "497        0.217352         0.451333  \n",
       "498        0.096723         1.229987  \n",
       "499       -2.442693        -0.236649  \n",
       "\n",
       "[500 rows x 11 columns]"
      ]
     },
     "execution_count": 24,
     "metadata": {},
     "output_type": "execute_result"
    }
   ],
   "source": [
    "test_with_predictions"
   ]
  },
  {
   "cell_type": "code",
   "execution_count": 26,
   "metadata": {
    "execution": {
     "iopub.execute_input": "2025-07-12T19:49:58.475235Z",
     "iopub.status.busy": "2025-07-12T19:49:58.474972Z",
     "iopub.status.idle": "2025-07-12T19:49:58.485886Z",
     "shell.execute_reply": "2025-07-12T19:49:58.485180Z",
     "shell.execute_reply.started": "2025-07-12T19:49:58.475213Z"
    },
    "trusted": true
   },
   "outputs": [],
   "source": [
    "test_with_predictions.to_csv('tabpfn.csv',index=False)"
   ]
  },
  {
   "cell_type": "code",
   "execution_count": null,
   "metadata": {
    "trusted": true
   },
   "outputs": [],
   "source": []
  }
 ],
 "metadata": {
  "kaggle": {
   "accelerator": "nvidiaTeslaT4",
   "dataSources": [
    {
     "datasetId": 7854132,
     "sourceId": 12450819,
     "sourceType": "datasetVersion"
    }
   ],
   "dockerImageVersionId": 31090,
   "isGpuEnabled": true,
   "isInternetEnabled": true,
   "language": "python",
   "sourceType": "notebook"
  },
  "kernelspec": {
   "display_name": "base",
   "language": "python",
   "name": "python3"
  },
  "language_info": {
   "codemirror_mode": {
    "name": "ipython",
    "version": 3
   },
   "file_extension": ".py",
   "mimetype": "text/x-python",
   "name": "python",
   "nbconvert_exporter": "python",
   "pygments_lexer": "ipython3",
   "version": "3.12.7"
  }
 },
 "nbformat": 4,
 "nbformat_minor": 4
}
